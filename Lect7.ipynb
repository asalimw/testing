{
  "nbformat": 4,
  "nbformat_minor": 0,
  "metadata": {
    "colab": {
      "name": "Untitled7.ipynb",
      "provenance": [],
      "authorship_tag": "ABX9TyMsCm6OeWnXq/jNzST4c7X+",
      "include_colab_link": true
    },
    "kernelspec": {
      "name": "python3",
      "display_name": "Python 3"
    }
  },
  "cells": [
    {
      "cell_type": "markdown",
      "metadata": {
        "id": "view-in-github",
        "colab_type": "text"
      },
      "source": [
        "<a href=\"https://colab.research.google.com/github/asalimw/testing/blob/master/Lect7.ipynb\" target=\"_parent\"><img src=\"https://colab.research.google.com/assets/colab-badge.svg\" alt=\"Open In Colab\"/></a>"
      ]
    },
    {
      "cell_type": "code",
      "metadata": {
        "colab": {
          "base_uri": "https://localhost:8080/",
          "height": 369
        },
        "id": "8vG8wbYs5AIP",
        "outputId": "e97ed9f0-b1ce-4069-cd29-09b9f3108afc"
      },
      "source": [
        "import random, pylab, numpy\r\n",
        "\r\n",
        "#set line width\r\n",
        "pylab.rcParams['lines.linewidth'] = 4\r\n",
        "#set font size for titles \r\n",
        "pylab.rcParams['axes.titlesize'] = 20\r\n",
        "#set font size for labels on axes\r\n",
        "pylab.rcParams['axes.labelsize'] = 20\r\n",
        "#set size of numbers on x-axis\r\n",
        "pylab.rcParams['xtick.labelsize'] = 16\r\n",
        "#set size of numbers on y-axis\r\n",
        "pylab.rcParams['ytick.labelsize'] = 16\r\n",
        "#set size of ticks on x-axis\r\n",
        "pylab.rcParams['xtick.major.size'] = 7\r\n",
        "#set size of ticks on y-axis\r\n",
        "pylab.rcParams['ytick.major.size'] = 7\r\n",
        "#set size of markers, e.g., circles representing points\r\n",
        "#set numpoints for legend\r\n",
        "pylab.rcParams['legend.numpoints'] = 1\r\n",
        "\r\n",
        "def getMeanAndStd(X):\r\n",
        "    mean = sum(X)/float(len(X))\r\n",
        "    tot = 0.0\r\n",
        "    for x in X:\r\n",
        "        tot += (x - mean)**2\r\n",
        "    std = (tot/len(X))**0.5\r\n",
        "    return mean, std\r\n",
        "    \r\n",
        "#Test CLT\r\n",
        "def plotMeans(numDice, numRolls, numBins, legend, color, style):\r\n",
        "    means = []\r\n",
        "    for i in range(numRolls//numDice):\r\n",
        "        vals = 0\r\n",
        "        for j in range(numDice):\r\n",
        "            vals += 5*random.random() \r\n",
        "        means.append(vals/float(numDice))\r\n",
        "    pylab.hist(means, numBins, color = color, label = legend,\r\n",
        "               weights = [1/len(means)]*len(means),\r\n",
        "               hatch = style)\r\n",
        "    return getMeanAndStd(means)\r\n",
        " \r\n",
        "mean, std = plotMeans(1, 1000000, 19, '1 die', 'b', '*')\r\n",
        "print('Mean of rolling 1 die =', str(mean) + ',', 'Std =', std)\r\n",
        "mean, std = plotMeans(50, 1000000, 19, 'Mean of 50 dice', 'r', '//')\r\n",
        "print('Mean of rolling 50 dice =', str(mean) + ',', 'Std =', std)\r\n",
        "pylab.title('Rolling Continuous Dice')\r\n",
        "pylab.xlabel('Value')\r\n",
        "pylab.ylabel('Probability')\r\n",
        "pylab.legend()\r\n"
      ],
      "execution_count": 2,
      "outputs": [
        {
          "output_type": "stream",
          "text": [
            "Mean of rolling 1 die = 2.5000920497422032, Std = 1.4434674064137751\n",
            "Mean of rolling 50 dice = 2.4980116326400523, Std = 0.20260406693227545\n"
          ],
          "name": "stdout"
        },
        {
          "output_type": "execute_result",
          "data": {
            "text/plain": [
              "<matplotlib.legend.Legend at 0x7f33637d5278>"
            ]
          },
          "metadata": {
            "tags": []
          },
          "execution_count": 2
        },
        {
          "output_type": "display_data",
          "data": {
            "image/png": "[encoded data removed]",
            "text/plain": [
              "<Figure size 432x288 with 1 Axes>"
            ]
          },
          "metadata": {
            "tags": [],
            "needs_background": "light"
          }
        }
      ]
    },
    {
      "cell_type": "code",
      "metadata": {
        "colab": {
          "base_uri": "https://localhost:8080/"
        },
        "id": "SutG0cdqHaUM",
        "outputId": "158e911b-b38b-43e5-9d2c-2e753123837e"
      },
      "source": [
        "def throwNeedles(numNeedles):\r\n",
        "    inCircle = 0\r\n",
        "    for Needles in range(1, numNeedles + 1, 1):\r\n",
        "        x = random.random()\r\n",
        "        y = random.random()\r\n",
        "        if (x*x + y*y)**0.5 <= 1.0:\r\n",
        "            inCircle += 1\r\n",
        "    return 2*(inCircle/float(numNeedles))\r\n",
        "    \r\n",
        "def getEst(numNeedles, numTrials):\r\n",
        "    estimates = []\r\n",
        "    for t in range(numTrials):\r\n",
        "        piGuess = throwNeedles(numNeedles)\r\n",
        "        estimates.append(piGuess)\r\n",
        "    sDev = numpy.std(estimates)\r\n",
        "    curEst = sum(estimates)/len(estimates)\r\n",
        "    print('Est. = ' + str(curEst) +\\\r\n",
        "          ', Std. dev. = ' + str(round(sDev, 6))\\\r\n",
        "          + ', Needles = ' + str(numNeedles))\r\n",
        "    return (curEst, sDev)\r\n",
        "\r\n",
        "def estPi(precision, numTrials):\r\n",
        "    numNeedles = 1000\r\n",
        "    sDev = precision\r\n",
        "    while sDev >= precision/2:\r\n",
        "        curEst, sDev = getEst(numNeedles,\r\n",
        "                              numTrials)\r\n",
        "        numNeedles *= 2\r\n",
        "    return curEst\r\n",
        "\r\n",
        "random.seed(0)\r\n",
        "estPi(0.005, 100)"
      ],
      "execution_count": 3,
      "outputs": [
        {
          "output_type": "stream",
          "text": [
            "Est. = 1.5742200000000006, Std. dev. = 0.023943, Needles = 1000\n",
            "Est. = 1.5695899999999994, Std. dev. = 0.017748, Needles = 2000\n",
            "Est. = 1.5705399999999998, Std. dev. = 0.013565, Needles = 4000\n",
            "Est. = 1.5707175, Std. dev. = 0.008402, Needles = 8000\n",
            "Est. = 1.5706775, Std. dev. = 0.00685, Needles = 16000\n",
            "Est. = 1.5706568750000003, Std. dev. = 0.004238, Needles = 32000\n",
            "Est. = 1.5705859374999995, Std. dev. = 0.003514, Needles = 64000\n",
            "Est. = 1.5707948437499997, Std. dev. = 0.002017, Needles = 128000\n"
          ],
          "name": "stdout"
        },
        {
          "output_type": "execute_result",
          "data": {
            "text/plain": [
              "1.5707948437499997"
            ]
          },
          "metadata": {
            "tags": []
          },
          "execution_count": 3
        }
      ]
    }
  ]
}